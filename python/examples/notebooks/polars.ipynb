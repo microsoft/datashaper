{
 "cells": [
  {
   "cell_type": "code",
   "execution_count": 1,
   "metadata": {},
   "outputs": [
    {
     "name": "stdout",
     "output_type": "stream",
     "text": [
      "Requirement already satisfied: memory_profiler in /home/andresmor/.cache/pypoetry/virtualenvs/examples-gtU7jnqy-py3.10/lib/python3.10/site-packages (0.61.0)\n",
      "Requirement already satisfied: psutil in /home/andresmor/.cache/pypoetry/virtualenvs/examples-gtU7jnqy-py3.10/lib/python3.10/site-packages (from memory_profiler) (5.9.7)\n",
      "\n",
      "\u001b[1m[\u001b[0m\u001b[34;49mnotice\u001b[0m\u001b[1;39;49m]\u001b[0m\u001b[39;49m A new release of pip is available: \u001b[0m\u001b[31;49m23.1.2\u001b[0m\u001b[39;49m -> \u001b[0m\u001b[32;49m23.3.2\u001b[0m\n",
      "\u001b[1m[\u001b[0m\u001b[34;49mnotice\u001b[0m\u001b[1;39;49m]\u001b[0m\u001b[39;49m To update, run: \u001b[0m\u001b[32;49mpip install --upgrade pip\u001b[0m\n"
     ]
    }
   ],
   "source": [
    "!pip3 install memory_profiler\n",
    "%load_ext memory_profiler"
   ]
  },
  {
   "cell_type": "code",
   "execution_count": 2,
   "metadata": {},
   "outputs": [],
   "source": [
    "import pyarrow.csv as csv\n",
    "import pandas as pd\n",
    "import polars as pl\n",
    "import pyarrow as pa\n",
    "\n",
    "FILE_PATH = '../../data/train.csv'"
   ]
  },
  {
   "cell_type": "code",
   "execution_count": 3,
   "metadata": {},
   "outputs": [
    {
     "name": "stdout",
     "output_type": "stream",
     "text": [
      "peak memory: 3657.56 MiB, increment: 3491.73 MiB\n"
     ]
    }
   ],
   "source": [
    "# Load CSV file using PyArrow\n",
    "%memit arrow_table = csv.read_csv(FILE_PATH)"
   ]
  },
  {
   "cell_type": "code",
   "execution_count": 20,
   "metadata": {},
   "outputs": [
    {
     "name": "stdout",
     "output_type": "stream",
     "text": [
      "peak memory: 15789.02 MiB, increment: 2045.87 MiB\n"
     ]
    }
   ],
   "source": [
    "# Load CSV file using Pandas\n",
    "%memit pandas_df = pd.read_csv(FILE_PATH)"
   ]
  },
  {
   "cell_type": "code",
   "execution_count": 5,
   "metadata": {},
   "outputs": [
    {
     "name": "stdout",
     "output_type": "stream",
     "text": [
      "peak memory: 7937.21 MiB, increment: 4094.57 MiB\n"
     ]
    }
   ],
   "source": [
    "# Load CSV file using Polars\n",
    "%memit polars_df = pl.read_csv(FILE_PATH)"
   ]
  },
  {
   "cell_type": "code",
   "execution_count": 22,
   "metadata": {},
   "outputs": [
    {
     "name": "stdout",
     "output_type": "stream",
     "text": [
      "peak memory: 19879.99 MiB, increment: 2074.25 MiB\n"
     ]
    }
   ],
   "source": [
    "%memit polars_to_pandas_no_pyarrow = polars_df.to_pandas()"
   ]
  },
  {
   "cell_type": "code",
   "execution_count": 23,
   "metadata": {},
   "outputs": [
    {
     "name": "stdout",
     "output_type": "stream",
     "text": [
      "peak memory: 18552.57 MiB, increment: 0.02 MiB\n"
     ]
    }
   ],
   "source": [
    "%memit polars_to_pandas = polars_df.to_pandas(use_pyarrow_extension_array=True)"
   ]
  },
  {
   "cell_type": "code",
   "execution_count": 12,
   "metadata": {},
   "outputs": [
    {
     "name": "stdout",
     "output_type": "stream",
     "text": [
      "peak memory: 15272.73 MiB, increment: 1535.15 MiB\n"
     ]
    }
   ],
   "source": [
    "%memit pandas_to_polars_allow_copy = pl.from_pandas(pandas_df)"
   ]
  },
  {
   "cell_type": "code",
   "execution_count": 11,
   "metadata": {},
   "outputs": [
    {
     "name": "stdout",
     "output_type": "stream",
     "text": [
      "peak memory: 15812.11 MiB, increment: 3607.83 MiB\n"
     ]
    }
   ],
   "source": [
    "%memit pandas_to_pyarrow = pa.Table.from_pandas(pandas_df)"
   ]
  },
  {
   "cell_type": "code",
   "execution_count": 26,
   "metadata": {},
   "outputs": [
    {
     "name": "stdout",
     "output_type": "stream",
     "text": [
      "peak memory: 17164.85 MiB, increment: 0.00 MiB\n"
     ]
    }
   ],
   "source": [
    "%memit polars_to_pyarrow = polars_df.to_arrow()"
   ]
  },
  {
   "cell_type": "code",
   "execution_count": 27,
   "metadata": {},
   "outputs": [
    {
     "name": "stdout",
     "output_type": "stream",
     "text": [
      "peak memory: 18288.44 MiB, increment: 2685.60 MiB\n"
     ]
    }
   ],
   "source": [
    "%memit pyarrow_to_pandas = arrow_table.to_pandas()"
   ]
  },
  {
   "cell_type": "code",
   "execution_count": 28,
   "metadata": {},
   "outputs": [
    {
     "name": "stdout",
     "output_type": "stream",
     "text": [
      "peak memory: 20008.93 MiB, increment: 2058.07 MiB\n"
     ]
    }
   ],
   "source": [
    "%memit pyarrow_to_polars = pl.from_arrow(arrow_table)"
   ]
  },
  {
   "cell_type": "code",
   "execution_count": 6,
   "metadata": {},
   "outputs": [
    {
     "name": "stdout",
     "output_type": "stream",
     "text": [
      "peak memory: 7642.91 MiB, increment: 2139.38 MiB\n"
     ]
    }
   ],
   "source": [
    "%memit polars_test = pl.from_arrow(arrow_table)"
   ]
  },
  {
   "cell_type": "code",
   "execution_count": 7,
   "metadata": {},
   "outputs": [
    {
     "name": "stdout",
     "output_type": "stream",
     "text": [
      "peak memory: 7156.34 MiB, increment: 0.48 MiB\n"
     ]
    }
   ],
   "source": [
    "%memit pyarrow_1 = polars_test.to_arrow()"
   ]
  },
  {
   "cell_type": "code",
   "execution_count": 8,
   "metadata": {},
   "outputs": [
    {
     "name": "stdout",
     "output_type": "stream",
     "text": [
      "peak memory: 9352.63 MiB, increment: 2196.28 MiB\n"
     ]
    }
   ],
   "source": [
    "%memit pandas_test = arrow_table.to_pandas()\n"
   ]
  },
  {
   "cell_type": "code",
   "execution_count": 9,
   "metadata": {},
   "outputs": [
    {
     "name": "stdout",
     "output_type": "stream",
     "text": [
      "peak memory: 11919.67 MiB, increment: 2567.02 MiB\n"
     ]
    }
   ],
   "source": [
    "%memit pyarrow_2 = pa.Table.from_pandas(pandas_df)"
   ]
  },
  {
   "cell_type": "code",
   "execution_count": 17,
   "metadata": {},
   "outputs": [
    {
     "name": "stdout",
     "output_type": "stream",
     "text": [
      "peak memory: 13742.43 MiB, increment: 0.00 MiB\n"
     ]
    }
   ],
   "source": [
    "%memit polars_to_pandas = polars_df.to_pandas(use_pyarrow_extension_array=True)"
   ]
  },
  {
   "cell_type": "code",
   "execution_count": 18,
   "metadata": {},
   "outputs": [],
   "source": [
    "polars_to_pandas[\"test\"] = True"
   ]
  },
  {
   "cell_type": "code",
   "execution_count": 19,
   "metadata": {},
   "outputs": [
    {
     "name": "stdout",
     "output_type": "stream",
     "text": [
      "peak memory: 13743.14 MiB, increment: 0.68 MiB\n"
     ]
    }
   ],
   "source": [
    "%memit pandas_to_polars = pl.from_pandas(polars_to_pandas)"
   ]
  },
  {
   "cell_type": "code",
   "execution_count": 21,
   "metadata": {},
   "outputs": [
    {
     "data": {
      "text/html": [
       "<div><style>\n",
       ".dataframe > thead > tr,\n",
       ".dataframe > tbody > tr {\n",
       "  text-align: right;\n",
       "  white-space: pre-wrap;\n",
       "}\n",
       "</style>\n",
       "<small>shape: (3_599_999, 4)</small><table border=\"1\" class=\"dataframe\"><thead><tr><th>2</th><th>Stuning even for the non-gamer</th><th>This sound track was beautiful! It paints the senery in your mind so well I would recomend it even to people who hate vid. game music! I have played the game Chrono Cross but out of all of the games I have ever played it has the best music! It backs away from crude keyboarding and takes a fresher step with grate guitars and soulful orchestras. It would impress anyone who cares to listen! ^_^</th><th>test</th></tr><tr><td>i64</td><td>str</td><td>str</td><td>bool</td></tr></thead><tbody><tr><td>2</td><td>&quot;The best sound…</td><td>&quot;I&#x27;m reading a …</td><td>true</td></tr><tr><td>2</td><td>&quot;Amazing!&quot;</td><td>&quot;This soundtrac…</td><td>true</td></tr><tr><td>2</td><td>&quot;Excellent Soun…</td><td>&quot;I truly like t…</td><td>true</td></tr><tr><td>2</td><td>&quot;Remember, Pull…</td><td>&quot;If you&#x27;ve play…</td><td>true</td></tr><tr><td>2</td><td>&quot;an absolute ma…</td><td>&quot;I am quite sur…</td><td>true</td></tr><tr><td>1</td><td>&quot;Buyer beware&quot;</td><td>&quot;This is a self…</td><td>true</td></tr><tr><td>2</td><td>&quot;Glorious story…</td><td>&quot;I loved Whispe…</td><td>true</td></tr><tr><td>2</td><td>&quot;A FIVE STAR BO…</td><td>&quot;I just finishe…</td><td>true</td></tr><tr><td>2</td><td>&quot;Whispers of th…</td><td>&quot;This was a eas…</td><td>true</td></tr><tr><td>1</td><td>&quot;The Worst!&quot;</td><td>&quot;A complete was…</td><td>true</td></tr><tr><td>2</td><td>&quot;Great book&quot;</td><td>&quot;This was a gre…</td><td>true</td></tr><tr><td>2</td><td>&quot;Great Read&quot;</td><td>&quot;I thought this…</td><td>true</td></tr><tr><td>&hellip;</td><td>&hellip;</td><td>&hellip;</td><td>&hellip;</td></tr><tr><td>2</td><td>&quot;We Love Tyler&quot;</td><td>&quot;When i got thi…</td><td>true</td></tr><tr><td>2</td><td>&quot;Amazing CD&quot;</td><td>&quot;Tyler Hitlon&#x27;s…</td><td>true</td></tr><tr><td>2</td><td>&quot;Buy this CD an…</td><td>&quot;Tyler Hilton..…</td><td>true</td></tr><tr><td>2</td><td>&quot;Tyler Rocks&quot;</td><td>&quot;there is only …</td><td>true</td></tr><tr><td>2</td><td>&quot;AWESOME&quot;</td><td>&quot;Absolutely ama…</td><td>true</td></tr><tr><td>1</td><td>&quot;What A Slap In…</td><td>&quot;Do NOT buy thi…</td><td>true</td></tr><tr><td>1</td><td>&quot;Too simplistic…</td><td>&quot;While Mr. Harr…</td><td>true</td></tr><tr><td>1</td><td>&quot;Don&#x27;t do it!!&quot;</td><td>&quot;The high chair…</td><td>true</td></tr><tr><td>1</td><td>&quot;Looks nice, lo…</td><td>&quot;I have used th…</td><td>true</td></tr><tr><td>1</td><td>&quot;compact, but h…</td><td>&quot;We have a smal…</td><td>true</td></tr><tr><td>1</td><td>&quot;what is it say…</td><td>&quot;not sure what …</td><td>true</td></tr><tr><td>2</td><td>&quot;Makes My Blood…</td><td>&quot;I agree that e…</td><td>true</td></tr></tbody></table></div>"
      ],
      "text/plain": [
       "shape: (3_599_999, 4)\n",
       "┌─────┬───────────────────────────────────┬───────────────────────────────────┬──────┐\n",
       "│ 2   ┆ Stuning even for the non-gamer    ┆ This sound track was beautiful! … ┆ test │\n",
       "│ --- ┆ ---                               ┆ ---                               ┆ ---  │\n",
       "│ i64 ┆ str                               ┆ str                               ┆ bool │\n",
       "╞═════╪═══════════════════════════════════╪═══════════════════════════════════╪══════╡\n",
       "│ 2   ┆ The best soundtrack ever to anyt… ┆ I'm reading a lot of reviews say… ┆ true │\n",
       "│ 2   ┆ Amazing!                          ┆ This soundtrack is my favorite m… ┆ true │\n",
       "│ 2   ┆ Excellent Soundtrack              ┆ I truly like this soundtrack and… ┆ true │\n",
       "│ 2   ┆ Remember, Pull Your Jaw Off The … ┆ If you've played the game, you k… ┆ true │\n",
       "│ …   ┆ …                                 ┆ …                                 ┆ …    │\n",
       "│ 1   ┆ Looks nice, low functionality     ┆ I have used this highchair for 2… ┆ true │\n",
       "│ 1   ┆ compact, but hard to clean        ┆ We have a small house, and reall… ┆ true │\n",
       "│ 1   ┆ what is it saying?                ┆ not sure what this book is suppo… ┆ true │\n",
       "│ 2   ┆ Makes My Blood Run Red-White-And… ┆ I agree that every American shou… ┆ true │\n",
       "└─────┴───────────────────────────────────┴───────────────────────────────────┴──────┘"
      ]
     },
     "execution_count": 21,
     "metadata": {},
     "output_type": "execute_result"
    }
   ],
   "source": [
    "pandas_to_polars"
   ]
  },
  {
   "cell_type": "code",
   "execution_count": 22,
   "metadata": {},
   "outputs": [
    {
     "data": {
      "text/plain": [
       "[('pandas_test', 1986635317),\n",
       " ('pandas_df', 1986633307),\n",
       " ('polars_to_pandas', 1637664127),\n",
       " ('pyarrow_1', 1633164040),\n",
       " ('pandas_to_pyarrow', 1604813963),\n",
       " ('pyarrow_2', 1604813963),\n",
       " ('arrow_table', 1604364048),\n",
       " ('open', 144),\n",
       " ('pa', 72),\n",
       " ('pd', 72),\n",
       " ('pl', 72),\n",
       " ('FILE_PATH', 69),\n",
       " ('pandas_to_polars', 48),\n",
       " ('pandas_to_polars_allow_copy', 48),\n",
       " ('polars_df', 48),\n",
       " ('polars_test', 48)]"
      ]
     },
     "execution_count": 22,
     "metadata": {},
     "output_type": "execute_result"
    }
   ],
   "source": [
    "import sys\n",
    "\n",
    "# These are the usual ipython objects, including this one you are creating\n",
    "ipython_vars = ['In', 'Out', 'exit', 'quit', 'get_ipython', 'ipython_vars']\n",
    "\n",
    "# Get a sorted list of the objects and their sizes\n",
    "sorted([(x, sys.getsizeof(globals().get(x))) for x in dir() if not x.startswith('_') and x not in sys.modules and x not in ipython_vars], key=lambda x: x[1], reverse=True)"
   ]
  },
  {
   "cell_type": "code",
   "execution_count": null,
   "metadata": {},
   "outputs": [],
   "source": []
  }
 ],
 "metadata": {
  "kernelspec": {
   "display_name": ".venv",
   "language": "python",
   "name": "python3"
  },
  "language_info": {
   "codemirror_mode": {
    "name": "ipython",
    "version": 3
   },
   "file_extension": ".py",
   "mimetype": "text/x-python",
   "name": "python",
   "nbconvert_exporter": "python",
   "pygments_lexer": "ipython3",
   "version": "3.10.11"
  }
 },
 "nbformat": 4,
 "nbformat_minor": 2
}
