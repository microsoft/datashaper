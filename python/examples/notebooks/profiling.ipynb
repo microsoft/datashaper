{
 "cells": [
  {
   "cell_type": "markdown",
   "metadata": {},
   "source": [
    "## Example for callbacks + Memory profiling of verbs and workflow\n",
    "\n",
    "In this example we show how to use the workflow callbacks to be able profile the memory usage of every verb"
   ]
  },
  {
   "cell_type": "code",
   "execution_count": 1,
   "metadata": {},
   "outputs": [],
   "source": [
    "import json\n",
    "import os\n",
    "from pathlib import Path\n",
    "\n",
    "import pandas as pd\n",
    "from datashaper import MemoryProfile, Workflow\n",
    "\n",
    "FIXTURES_PATH = \"../../../schema/fixtures/workflow\"\n",
    "TABLE_STORE_PATH = \"../../../schema/fixtures/workflow_inputs\"\n",
    "profile = None\n",
    "\n",
    "\n",
    "tables: dict[str, pd.DataFrame] = {}\n",
    "for file in os.listdir(TABLE_STORE_PATH):\n",
    "    if file.endswith(\".csv\"):\n",
    "        path = Path(TABLE_STORE_PATH) / file\n",
    "        table = pd.read_csv(\n",
    "            path,\n",
    "        )\n",
    "        tables[file.removesuffix(\".csv\")] = table\n",
    "\n",
    "\n",
    "def get_verb_test_specs(root: str) -> list[str]:\n",
    "    \"\"\"Get the test specs for the verbs.\"\"\"\n",
    "    subfolders: list[str] = []\n",
    "    for dirname, _, files in os.walk(root):\n",
    "        if \"workflow.json\" in files:\n",
    "            subfolders.append(dirname)\n",
    "    return subfolders\n",
    "\n",
    "\n",
    "async def test_verbs_schema_input(fixture_path: str) -> MemoryProfile:\n",
    "    \"\"\"Test the schema input of the verbs.\"\"\"\n",
    "    with (Path(fixture_path) / \"workflow.json\").open() as schema:\n",
    "        workflow = Workflow(\n",
    "            memory_profile=True,\n",
    "            schema=json.load(schema),\n",
    "            input_tables=tables,\n",
    "        )\n",
    "    result = await workflow.run()\n",
    "    return result.memory_profile"
   ]
  },
  {
   "cell_type": "code",
   "execution_count": 2,
   "metadata": {},
   "outputs": [
    {
     "name": "stderr",
     "output_type": "stream",
     "text": [
      "/home/andresmor/Projects/datashaper/python/datashaper/datashaper/engine/verbs/fold.py:22: FutureWarning: The previous implementation of stack is deprecated and will be removed in a future version of pandas. See the What's New notes for pandas 2.1.0 for details. Specify future_stack=True to adopt the new implementation and silence this warning.\n",
      "  output = output.stack(dropna=False).reset_index()\n",
      "/home/andresmor/Projects/datashaper/python/datashaper/datashaper/engine/verbs/fold.py:22: FutureWarning: The previous implementation of stack is deprecated and will be removed in a future version of pandas. See the What's New notes for pandas 2.1.0 for details. Specify future_stack=True to adopt the new implementation and silence this warning.\n",
      "  output = output.stack(dropna=False).reset_index()\n",
      "/home/andresmor/Projects/datashaper/python/datashaper/datashaper/engine/verbs/fold.py:22: FutureWarning: The previous implementation of stack is deprecated and will be removed in a future version of pandas. See the What's New notes for pandas 2.1.0 for details. Specify future_stack=True to adopt the new implementation and silence this warning.\n",
      "  output = output.stack(dropna=False).reset_index()\n",
      "/home/andresmor/Projects/datashaper/python/datashaper/datashaper/engine/verbs/fold.py:22: FutureWarning: The previous implementation of stack is deprecated and will be removed in a future version of pandas. See the What's New notes for pandas 2.1.0 for details. Specify future_stack=True to adopt the new implementation and silence this warning.\n",
      "  output = output.stack(dropna=False).reset_index()\n",
      "/home/andresmor/Projects/datashaper/python/datashaper/datashaper/engine/verbs/fold.py:22: FutureWarning: The previous implementation of stack is deprecated and will be removed in a future version of pandas. See the What's New notes for pandas 2.1.0 for details. Specify future_stack=True to adopt the new implementation and silence this warning.\n",
      "  output = output.stack(dropna=False).reset_index()\n",
      "/home/andresmor/Projects/datashaper/python/datashaper/datashaper/engine/verbs/fold.py:22: FutureWarning: The previous implementation of stack is deprecated and will be removed in a future version of pandas. See the What's New notes for pandas 2.1.0 for details. Specify future_stack=True to adopt the new implementation and silence this warning.\n",
      "  output = output.stack(dropna=False).reset_index()\n"
     ]
    },
    {
     "name": "stdout",
     "output_type": "stream",
     "text": [
      "Test print verb\n",
      "    ID       Name  Employees     US\n",
      "0    1  Microsoft     160000   True\n",
      "1    2      Apple     150000   True\n",
      "..  ..        ...        ...    ...\n",
      "3    4     Amazon    1250000   True\n",
      "4    5    Samsung     270000  False\n"
     ]
    },
    {
     "name": "stderr",
     "output_type": "stream",
     "text": [
      "/home/andresmor/Projects/datashaper/python/datashaper/datashaper/engine/verbs/convert.py:71: FutureWarning: errors='ignore' is deprecated and will raise in a future version. Use to_datetime without passing `errors` and catch exceptions explicitly instead\n",
      "  datetime_column = pd.to_datetime(column, errors=\"ignore\")\n",
      "/home/andresmor/Projects/datashaper/python/datashaper/datashaper/engine/verbs/convert.py:71: FutureWarning: errors='ignore' is deprecated and will raise in a future version. Use to_datetime without passing `errors` and catch exceptions explicitly instead\n",
      "  datetime_column = pd.to_datetime(column, errors=\"ignore\")\n",
      "/home/andresmor/Projects/datashaper/python/datashaper/datashaper/engine/verbs/convert.py:64: FutureWarning: errors='ignore' is deprecated and will raise in a future version. Use to_numeric without passing `errors` and catch exceptions explicitly instead\n",
      "  column_numeric = cast(pd.Series, pd.to_numeric(column, errors=\"ignore\"))\n",
      "/home/andresmor/Projects/datashaper/python/datashaper/datashaper/engine/verbs/convert.py:64: FutureWarning: errors='ignore' is deprecated and will raise in a future version. Use to_numeric without passing `errors` and catch exceptions explicitly instead\n",
      "  column_numeric = cast(pd.Series, pd.to_numeric(column, errors=\"ignore\"))\n",
      "/home/andresmor/Projects/datashaper/python/datashaper/datashaper/engine/verbs/convert.py:71: FutureWarning: errors='ignore' is deprecated and will raise in a future version. Use to_datetime without passing `errors` and catch exceptions explicitly instead\n",
      "  datetime_column = pd.to_datetime(column, errors=\"ignore\")\n",
      "/home/andresmor/Projects/datashaper/python/datashaper/datashaper/engine/verbs/convert.py:71: UserWarning: Could not infer format, so each element will be parsed individually, falling back to `dateutil`. To ensure parsing is consistent and as-expected, please specify a format.\n",
      "  datetime_column = pd.to_datetime(column, errors=\"ignore\")\n",
      "/home/andresmor/Projects/datashaper/python/datashaper/datashaper/engine/verbs/convert.py:64: FutureWarning: errors='ignore' is deprecated and will raise in a future version. Use to_numeric without passing `errors` and catch exceptions explicitly instead\n",
      "  column_numeric = cast(pd.Series, pd.to_numeric(column, errors=\"ignore\"))\n",
      "/home/andresmor/Projects/datashaper/python/datashaper/datashaper/engine/verbs/convert.py:64: FutureWarning: errors='ignore' is deprecated and will raise in a future version. Use to_numeric without passing `errors` and catch exceptions explicitly instead\n",
      "  column_numeric = cast(pd.Series, pd.to_numeric(column, errors=\"ignore\"))\n",
      "/home/andresmor/Projects/datashaper/python/datashaper/datashaper/engine/verbs/convert.py:64: FutureWarning: errors='ignore' is deprecated and will raise in a future version. Use to_numeric without passing `errors` and catch exceptions explicitly instead\n",
      "  column_numeric = cast(pd.Series, pd.to_numeric(column, errors=\"ignore\"))\n",
      "/home/andresmor/Projects/datashaper/python/datashaper/datashaper/engine/verbs/utils/merge_utils.py:11: FutureWarning: Series.__getitem__ treating keys as positions is deprecated. In a future version, integer keys will always be treated as labels (consistent with DataFrame behavior). To access a value by position, use `ser.iloc[pos]`\n",
      "  MergeStrategy.FirstOneWins: lambda values, **_kwargs: values.dropna().apply(\n",
      "/home/andresmor/Projects/datashaper/python/datashaper/datashaper/engine/verbs/utils/merge_utils.py:11: FutureWarning: Series.__getitem__ treating keys as positions is deprecated. In a future version, integer keys will always be treated as labels (consistent with DataFrame behavior). To access a value by position, use `ser.iloc[pos]`\n",
      "  MergeStrategy.FirstOneWins: lambda values, **_kwargs: values.dropna().apply(\n",
      "/home/andresmor/Projects/datashaper/python/datashaper/datashaper/engine/verbs/utils/merge_utils.py:11: FutureWarning: Series.__getitem__ treating keys as positions is deprecated. In a future version, integer keys will always be treated as labels (consistent with DataFrame behavior). To access a value by position, use `ser.iloc[pos]`\n",
      "  MergeStrategy.FirstOneWins: lambda values, **_kwargs: values.dropna().apply(\n",
      "/home/andresmor/Projects/datashaper/python/datashaper/datashaper/engine/verbs/utils/merge_utils.py:11: FutureWarning: Series.__getitem__ treating keys as positions is deprecated. In a future version, integer keys will always be treated as labels (consistent with DataFrame behavior). To access a value by position, use `ser.iloc[pos]`\n",
      "  MergeStrategy.FirstOneWins: lambda values, **_kwargs: values.dropna().apply(\n",
      "/home/andresmor/Projects/datashaper/python/datashaper/datashaper/engine/verbs/utils/merge_utils.py:11: FutureWarning: Series.__getitem__ treating keys as positions is deprecated. In a future version, integer keys will always be treated as labels (consistent with DataFrame behavior). To access a value by position, use `ser.iloc[pos]`\n",
      "  MergeStrategy.FirstOneWins: lambda values, **_kwargs: values.dropna().apply(\n",
      "/home/andresmor/Projects/datashaper/python/datashaper/datashaper/engine/verbs/utils/merge_utils.py:11: FutureWarning: Series.__getitem__ treating keys as positions is deprecated. In a future version, integer keys will always be treated as labels (consistent with DataFrame behavior). To access a value by position, use `ser.iloc[pos]`\n",
      "  MergeStrategy.FirstOneWins: lambda values, **_kwargs: values.dropna().apply(\n",
      "/home/andresmor/Projects/datashaper/python/datashaper/datashaper/engine/verbs/utils/merge_utils.py:11: FutureWarning: Series.__getitem__ treating keys as positions is deprecated. In a future version, integer keys will always be treated as labels (consistent with DataFrame behavior). To access a value by position, use `ser.iloc[pos]`\n",
      "  MergeStrategy.FirstOneWins: lambda values, **_kwargs: values.dropna().apply(\n",
      "/home/andresmor/Projects/datashaper/python/datashaper/datashaper/engine/verbs/utils/merge_utils.py:11: FutureWarning: Series.__getitem__ treating keys as positions is deprecated. In a future version, integer keys will always be treated as labels (consistent with DataFrame behavior). To access a value by position, use `ser.iloc[pos]`\n",
      "  MergeStrategy.FirstOneWins: lambda values, **_kwargs: values.dropna().apply(\n",
      "/home/andresmor/Projects/datashaper/python/datashaper/datashaper/engine/verbs/utils/merge_utils.py:11: FutureWarning: Series.__getitem__ treating keys as positions is deprecated. In a future version, integer keys will always be treated as labels (consistent with DataFrame behavior). To access a value by position, use `ser.iloc[pos]`\n",
      "  MergeStrategy.FirstOneWins: lambda values, **_kwargs: values.dropna().apply(\n",
      "/home/andresmor/Projects/datashaper/python/datashaper/datashaper/engine/verbs/utils/merge_utils.py:11: FutureWarning: Series.__getitem__ treating keys as positions is deprecated. In a future version, integer keys will always be treated as labels (consistent with DataFrame behavior). To access a value by position, use `ser.iloc[pos]`\n",
      "  MergeStrategy.FirstOneWins: lambda values, **_kwargs: values.dropna().apply(\n",
      "/home/andresmor/Projects/datashaper/python/datashaper/datashaper/engine/verbs/utils/merge_utils.py:11: FutureWarning: Series.__getitem__ treating keys as positions is deprecated. In a future version, integer keys will always be treated as labels (consistent with DataFrame behavior). To access a value by position, use `ser.iloc[pos]`\n",
      "  MergeStrategy.FirstOneWins: lambda values, **_kwargs: values.dropna().apply(\n",
      "/home/andresmor/Projects/datashaper/python/datashaper/datashaper/engine/verbs/utils/merge_utils.py:11: FutureWarning: Series.__getitem__ treating keys as positions is deprecated. In a future version, integer keys will always be treated as labels (consistent with DataFrame behavior). To access a value by position, use `ser.iloc[pos]`\n",
      "  MergeStrategy.FirstOneWins: lambda values, **_kwargs: values.dropna().apply(\n",
      "/home/andresmor/Projects/datashaper/python/datashaper/datashaper/engine/verbs/utils/merge_utils.py:14: FutureWarning: Series.__getitem__ treating keys as positions is deprecated. In a future version, integer keys will always be treated as labels (consistent with DataFrame behavior). To access a value by position, use `ser.iloc[pos]`\n",
      "  MergeStrategy.LastOneWins: lambda values, **_kwargs: values.dropna().apply(\n",
      "/home/andresmor/Projects/datashaper/python/datashaper/datashaper/engine/verbs/utils/merge_utils.py:14: FutureWarning: Series.__getitem__ treating keys as positions is deprecated. In a future version, integer keys will always be treated as labels (consistent with DataFrame behavior). To access a value by position, use `ser.iloc[pos]`\n",
      "  MergeStrategy.LastOneWins: lambda values, **_kwargs: values.dropna().apply(\n",
      "/home/andresmor/Projects/datashaper/python/datashaper/datashaper/engine/verbs/utils/merge_utils.py:14: FutureWarning: Series.__getitem__ treating keys as positions is deprecated. In a future version, integer keys will always be treated as labels (consistent with DataFrame behavior). To access a value by position, use `ser.iloc[pos]`\n",
      "  MergeStrategy.LastOneWins: lambda values, **_kwargs: values.dropna().apply(\n",
      "/home/andresmor/Projects/datashaper/python/datashaper/datashaper/engine/verbs/utils/merge_utils.py:14: FutureWarning: Series.__getitem__ treating keys as positions is deprecated. In a future version, integer keys will always be treated as labels (consistent with DataFrame behavior). To access a value by position, use `ser.iloc[pos]`\n",
      "  MergeStrategy.LastOneWins: lambda values, **_kwargs: values.dropna().apply(\n",
      "/home/andresmor/Projects/datashaper/python/datashaper/datashaper/engine/verbs/utils/merge_utils.py:14: FutureWarning: Series.__getitem__ treating keys as positions is deprecated. In a future version, integer keys will always be treated as labels (consistent with DataFrame behavior). To access a value by position, use `ser.iloc[pos]`\n",
      "  MergeStrategy.LastOneWins: lambda values, **_kwargs: values.dropna().apply(\n",
      "/home/andresmor/Projects/datashaper/python/datashaper/datashaper/engine/verbs/utils/merge_utils.py:14: FutureWarning: Series.__getitem__ treating keys as positions is deprecated. In a future version, integer keys will always be treated as labels (consistent with DataFrame behavior). To access a value by position, use `ser.iloc[pos]`\n",
      "  MergeStrategy.LastOneWins: lambda values, **_kwargs: values.dropna().apply(\n",
      "/home/andresmor/Projects/datashaper/python/datashaper/datashaper/engine/verbs/utils/merge_utils.py:14: FutureWarning: Series.__getitem__ treating keys as positions is deprecated. In a future version, integer keys will always be treated as labels (consistent with DataFrame behavior). To access a value by position, use `ser.iloc[pos]`\n",
      "  MergeStrategy.LastOneWins: lambda values, **_kwargs: values.dropna().apply(\n",
      "/home/andresmor/Projects/datashaper/python/datashaper/datashaper/engine/verbs/utils/merge_utils.py:14: FutureWarning: Series.__getitem__ treating keys as positions is deprecated. In a future version, integer keys will always be treated as labels (consistent with DataFrame behavior). To access a value by position, use `ser.iloc[pos]`\n",
      "  MergeStrategy.LastOneWins: lambda values, **_kwargs: values.dropna().apply(\n",
      "/home/andresmor/Projects/datashaper/python/datashaper/datashaper/engine/verbs/utils/merge_utils.py:14: FutureWarning: Series.__getitem__ treating keys as positions is deprecated. In a future version, integer keys will always be treated as labels (consistent with DataFrame behavior). To access a value by position, use `ser.iloc[pos]`\n",
      "  MergeStrategy.LastOneWins: lambda values, **_kwargs: values.dropna().apply(\n",
      "/home/andresmor/Projects/datashaper/python/datashaper/datashaper/engine/verbs/utils/merge_utils.py:14: FutureWarning: Series.__getitem__ treating keys as positions is deprecated. In a future version, integer keys will always be treated as labels (consistent with DataFrame behavior). To access a value by position, use `ser.iloc[pos]`\n",
      "  MergeStrategy.LastOneWins: lambda values, **_kwargs: values.dropna().apply(\n",
      "/home/andresmor/Projects/datashaper/python/datashaper/datashaper/engine/verbs/onehot.py:29: FutureWarning: Setting an item of incompatible dtype is deprecated and will raise an error in a future version of pandas. Value 'nan' has dtype incompatible with bool, please explicitly cast to a compatible dtype first.\n",
      "  dummies.loc[input_table[column].isna(), cols] = np.nan\n"
     ]
    }
   ],
   "source": [
    "for fixture_path in get_verb_test_specs(FIXTURES_PATH):\n",
    "    profile = await test_verbs_schema_input(fixture_path)"
   ]
  },
  {
   "cell_type": "code",
   "execution_count": 3,
   "metadata": {},
   "outputs": [
    {
     "data": {
      "text/html": [
       "<div>\n",
       "<style scoped>\n",
       "    .dataframe tbody tr th:only-of-type {\n",
       "        vertical-align: middle;\n",
       "    }\n",
       "\n",
       "    .dataframe tbody tr th {\n",
       "        vertical-align: top;\n",
       "    }\n",
       "\n",
       "    .dataframe thead th {\n",
       "        text-align: right;\n",
       "    }\n",
       "</style>\n",
       "<table border=\"1\" class=\"dataframe\">\n",
       "  <thead>\n",
       "    <tr style=\"text-align: right;\">\n",
       "      <th></th>\n",
       "      <th>mean</th>\n",
       "      <th>max</th>\n",
       "      <th>min</th>\n",
       "      <th>samples</th>\n",
       "    </tr>\n",
       "  </thead>\n",
       "  <tbody>\n",
       "    <tr>\n",
       "      <th>all</th>\n",
       "      <td>0.030230</td>\n",
       "      <td>0.030230</td>\n",
       "      <td>0.030230</td>\n",
       "      <td>1.0</td>\n",
       "    </tr>\n",
       "    <tr>\n",
       "      <th>onehot</th>\n",
       "      <td>0.027885</td>\n",
       "      <td>0.027885</td>\n",
       "      <td>0.027885</td>\n",
       "      <td>1.0</td>\n",
       "    </tr>\n",
       "  </tbody>\n",
       "</table>\n",
       "</div>"
      ],
      "text/plain": [
       "            mean       max       min  samples\n",
       "all     0.030230  0.030230  0.030230      1.0\n",
       "onehot  0.027885  0.027885  0.027885      1.0"
      ]
     },
     "execution_count": 3,
     "metadata": {},
     "output_type": "execute_result"
    }
   ],
   "source": [
    "profile.snapshot_stats"
   ]
  },
  {
   "cell_type": "code",
   "execution_count": 4,
   "metadata": {},
   "outputs": [
    {
     "data": {
      "text/html": [
       "<div>\n",
       "<style scoped>\n",
       "    .dataframe tbody tr th:only-of-type {\n",
       "        vertical-align: middle;\n",
       "    }\n",
       "\n",
       "    .dataframe tbody tr th {\n",
       "        vertical-align: top;\n",
       "    }\n",
       "\n",
       "    .dataframe thead th {\n",
       "        text-align: right;\n",
       "    }\n",
       "</style>\n",
       "<table border=\"1\" class=\"dataframe\">\n",
       "  <thead>\n",
       "    <tr style=\"text-align: right;\">\n",
       "      <th></th>\n",
       "      <th>mean</th>\n",
       "      <th>max</th>\n",
       "      <th>min</th>\n",
       "      <th>samples</th>\n",
       "    </tr>\n",
       "  </thead>\n",
       "  <tbody>\n",
       "    <tr>\n",
       "      <th>all</th>\n",
       "      <td>0.045373</td>\n",
       "      <td>0.045373</td>\n",
       "      <td>0.045373</td>\n",
       "      <td>1.0</td>\n",
       "    </tr>\n",
       "    <tr>\n",
       "      <th>onehot</th>\n",
       "      <td>0.037442</td>\n",
       "      <td>0.037442</td>\n",
       "      <td>0.037442</td>\n",
       "      <td>1.0</td>\n",
       "    </tr>\n",
       "  </tbody>\n",
       "</table>\n",
       "</div>"
      ],
      "text/plain": [
       "            mean       max       min  samples\n",
       "all     0.045373  0.045373  0.045373      1.0\n",
       "onehot  0.037442  0.037442  0.037442      1.0"
      ]
     },
     "execution_count": 4,
     "metadata": {},
     "output_type": "execute_result"
    }
   ],
   "source": [
    "profile.peak_stats"
   ]
  },
  {
   "cell_type": "code",
   "execution_count": 5,
   "metadata": {},
   "outputs": [
    {
     "data": {
      "text/html": [
       "<div>\n",
       "<style scoped>\n",
       "    .dataframe tbody tr th:only-of-type {\n",
       "        vertical-align: middle;\n",
       "    }\n",
       "\n",
       "    .dataframe tbody tr th {\n",
       "        vertical-align: top;\n",
       "    }\n",
       "\n",
       "    .dataframe thead th {\n",
       "        text-align: right;\n",
       "    }\n",
       "</style>\n",
       "<table border=\"1\" class=\"dataframe\">\n",
       "  <thead>\n",
       "    <tr style=\"text-align: right;\">\n",
       "      <th></th>\n",
       "      <th>mean</th>\n",
       "      <th>max</th>\n",
       "      <th>min</th>\n",
       "      <th>samples</th>\n",
       "    </tr>\n",
       "  </thead>\n",
       "  <tbody>\n",
       "    <tr>\n",
       "      <th>all</th>\n",
       "      <td>0.010951</td>\n",
       "      <td>0.010951</td>\n",
       "      <td>0.010951</td>\n",
       "      <td>1.0</td>\n",
       "    </tr>\n",
       "    <tr>\n",
       "      <th>onehot</th>\n",
       "      <td>0.009947</td>\n",
       "      <td>0.009947</td>\n",
       "      <td>0.009947</td>\n",
       "      <td>1.0</td>\n",
       "    </tr>\n",
       "  </tbody>\n",
       "</table>\n",
       "</div>"
      ],
      "text/plain": [
       "            mean       max       min  samples\n",
       "all     0.010951  0.010951  0.010951      1.0\n",
       "onehot  0.009947  0.009947  0.009947      1.0"
      ]
     },
     "execution_count": 5,
     "metadata": {},
     "output_type": "execute_result"
    }
   ],
   "source": [
    "profile.time_stats"
   ]
  },
  {
   "cell_type": "code",
   "execution_count": 6,
   "metadata": {},
   "outputs": [],
   "source": [
    "dive_deep = profile.detailed_view"
   ]
  },
  {
   "cell_type": "code",
   "execution_count": 7,
   "metadata": {},
   "outputs": [
    {
     "data": {
      "text/html": [
       "<div>\n",
       "<style scoped>\n",
       "    .dataframe tbody tr th:only-of-type {\n",
       "        vertical-align: middle;\n",
       "    }\n",
       "\n",
       "    .dataframe tbody tr th {\n",
       "        vertical-align: top;\n",
       "    }\n",
       "\n",
       "    .dataframe thead th {\n",
       "        text-align: right;\n",
       "    }\n",
       "</style>\n",
       "<table border=\"1\" class=\"dataframe\">\n",
       "  <thead>\n",
       "    <tr style=\"text-align: right;\">\n",
       "      <th></th>\n",
       "      <th>verb</th>\n",
       "      <th>size_diff</th>\n",
       "      <th>size</th>\n",
       "      <th>count_diff</th>\n",
       "      <th>count</th>\n",
       "      <th>filename</th>\n",
       "      <th>lineno</th>\n",
       "      <th>sample</th>\n",
       "    </tr>\n",
       "  </thead>\n",
       "  <tbody>\n",
       "    <tr>\n",
       "      <th>204</th>\n",
       "      <td>onehot</td>\n",
       "      <td>112</td>\n",
       "      <td>112</td>\n",
       "      <td>2</td>\n",
       "      <td>2</td>\n",
       "      <td>/home/andresmor/Projects/datashaper/python/dat...</td>\n",
       "      <td>35</td>\n",
       "      <td>0</td>\n",
       "    </tr>\n",
       "  </tbody>\n",
       "</table>\n",
       "</div>"
      ],
      "text/plain": [
       "       verb  size_diff  size  count_diff  count  \\\n",
       "204  onehot        112   112           2      2   \n",
       "\n",
       "                                              filename  lineno  sample  \n",
       "204  /home/andresmor/Projects/datashaper/python/dat...      35       0  "
      ]
     },
     "execution_count": 7,
     "metadata": {},
     "output_type": "execute_result"
    }
   ],
   "source": [
    "dive_deep[\n",
    "    (dive_deep[\"verb\"] == \"onehot\")\n",
    "    & (dive_deep[\"sample\"] == 0)\n",
    "    & (dive_deep[\"filename\"].str.contains(\"onehot\"))\n",
    "]"
   ]
  },
  {
   "cell_type": "code",
   "execution_count": null,
   "metadata": {},
   "outputs": [],
   "source": []
  }
 ],
 "metadata": {
  "kernelspec": {
   "display_name": "examples-gtU7jnqy-py3.10",
   "language": "python",
   "name": "python3"
  },
  "language_info": {
   "codemirror_mode": {
    "name": "ipython",
    "version": 3
   },
   "file_extension": ".py",
   "mimetype": "text/x-python",
   "name": "python",
   "nbconvert_exporter": "python",
   "pygments_lexer": "ipython3",
   "version": "3.10.12"
  }
 },
 "nbformat": 4,
 "nbformat_minor": 2
}
