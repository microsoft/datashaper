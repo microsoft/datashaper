{
 "cells": [
  {
   "cell_type": "code",
   "execution_count": 1,
   "metadata": {},
   "outputs": [],
   "source": [
    "import pandas as pd\n",
    "from datashaper import Workflow\n",
    "from datashaper.table_store import DiskCacheTableStore"
   ]
  },
  {
   "cell_type": "code",
   "execution_count": 2,
   "metadata": {},
   "outputs": [],
   "source": [
    "gh_url = \"https://raw.githubusercontent.com/darthtrevino/vast-mc3-data/main\"\n",
    "dtype = {\"date(yyyyMMddHHmmss)\": \"string\"}\n",
    "vast1 = pd.read_csv(f\"{gh_url}/csv-1700-1830.csv\", dtype=dtype)\n",
    "vast2 = pd.read_csv(f\"{gh_url}/csv-1831-2000.csv\", dtype=dtype)\n",
    "vast3 = pd.read_csv(f\"{gh_url}/csv-2001-2131.csv\", dtype=dtype)"
   ]
  },
  {
   "cell_type": "markdown",
   "metadata": {},
   "source": [
    "In this example we define a DiskCacheTableStore with maxsize 2, this means that we will only keep at max 2 tables in memory, the other tables will be saved to a temp folder and loaded if needed."
   ]
  },
  {
   "cell_type": "code",
   "execution_count": 7,
   "metadata": {},
   "outputs": [
    {
     "name": "stdout",
     "output_type": "stream",
     "text": [
      "CacheInfo(hits=3, misses=8, maxsize=5, currsize=5)\n"
     ]
    }
   ],
   "source": [
    "from datashaper.engine.verbs import load_verbs\n",
    "import examples.verbs as custom_verbs_module\n",
    "\n",
    "load_verbs(custom_verbs_module)\n",
    "\n",
    "with DiskCacheTableStore(maxsize=5) as table_store:\n",
    "    workflow = Workflow(\n",
    "        schema={\n",
    "            \"steps\": [\n",
    "                {\n",
    "                    \"verb\": \"concat\",\n",
    "                    \"input\": {\"source\": \"vast1\", \"others\": [\"vast2\", \"vast3\"]},\n",
    "                    \"id\": \"vast_all\",\n",
    "                },\n",
    "                {\n",
    "                    \"verb\": \"convert\",\n",
    "                    \"args\": {\n",
    "                        \"column\": \"date(yyyyMMddHHmmss)\",\n",
    "                        \"to\": \"datetime\",\n",
    "                        \"type\": \"date\",\n",
    "                        \"formatPattern\": \"yyyyMMddHHmmss\",\n",
    "                    },\n",
    "                    \"input\": \"vast_all\",\n",
    "                    \"id\": \"convert\",\n",
    "                },\n",
    "                {\n",
    "                    \"verb\": \"select\",\n",
    "                    \"args\": {\"columns\": [\"type\", \"datetime\", \"author\", \"message\"]},\n",
    "                    \"input\": \"convert\",\n",
    "                    \"id\": \"selected\",\n",
    "                },\n",
    "                {\n",
    "                    \"verb\": \"genid\",\n",
    "                    \"args\": {\"to\": \"id\", \"hash\": [\"datetime\", \"author\", \"message\"]},\n",
    "                    \"input\": \"selected\",\n",
    "                    \"id\": \"genid\",\n",
    "                },\n",
    "                {\n",
    "                    \"verb\": \"embed\",\n",
    "                    \"args\": {\"to\": \"embedding\", \"column\": \"message\"},\n",
    "                    \"input\": \"genid\",\n",
    "                    \"id\": \"embed\",\n",
    "                },\n",
    "                {\n",
    "                    \"verb\": \"select\",\n",
    "                    \"args\": {\"columns\": [\"type\", \"datetime\", \"author\", \"message\"]},\n",
    "                    \"input\": \"convert\",\n",
    "                    \"id\": \"selected2\",\n",
    "                },\n",
    "                {\n",
    "                    \"verb\": \"genid\",\n",
    "                    \"args\": {\"to\": \"id\", \"hash\": [\"datetime\", \"author\", \"message\"]},\n",
    "                    \"input\": \"selected\",\n",
    "                    \"id\": \"genid2\",\n",
    "                },\n",
    "                {\n",
    "                    \"verb\": \"embed\",\n",
    "                    \"args\": {\"to\": \"embedding\", \"column\": \"message\"},\n",
    "                    \"input\": \"genid\",\n",
    "                    \"id\": \"embed2\",\n",
    "                },\n",
    "            ]\n",
    "        },\n",
    "        input_tables={\"vast1\": vast1, \"vast2\": vast2, \"vast3\": vast3},\n",
    "        validate=False,\n",
    "        schema_path=\"../../schema/workflow.json\",\n",
    "        table_store=table_store,\n",
    "    )\n",
    "    workflow.run()\n",
    "    result = workflow.output()\n",
    "    print(workflow._table_store._get_caching_function().cache_info())"
   ]
  },
  {
   "cell_type": "code",
   "execution_count": null,
   "metadata": {},
   "outputs": [],
   "source": []
  }
 ],
 "metadata": {
  "kernelspec": {
   "display_name": "examples-gtU7jnqy-py3.10",
   "language": "python",
   "name": "python3"
  },
  "language_info": {
   "codemirror_mode": {
    "name": "ipython",
    "version": 3
   },
   "file_extension": ".py",
   "mimetype": "text/x-python",
   "name": "python",
   "nbconvert_exporter": "python",
   "pygments_lexer": "ipython3",
   "version": "3.10.12"
  }
 },
 "nbformat": 4,
 "nbformat_minor": 2
}
