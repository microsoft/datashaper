{
 "cells": [
  {
   "cell_type": "markdown",
   "metadata": {},
   "source": [
    "# Sample workflow for VAST MC3 data"
   ]
  },
  {
   "cell_type": "code",
   "execution_count": 1,
   "metadata": {},
   "outputs": [],
   "source": [
    "import pandas as pd\n",
    "from datashaper import Workflow, WorkflowCallbacks\n",
    "\n",
    "from examples.verbs.custom_verbs import embed_mock as embed, genid"
   ]
  },
  {
   "cell_type": "markdown",
   "metadata": {},
   "source": [
    "## Load data"
   ]
  },
  {
   "cell_type": "code",
   "execution_count": 2,
   "metadata": {},
   "outputs": [],
   "source": [
    "gh_url = \"https://raw.githubusercontent.com/darthtrevino/vast-mc3-data/main\"\n",
    "dtype = {\"date(yyyyMMddHHmmss)\": \"string\"}\n",
    "vast1 = pd.read_csv(f\"{gh_url}/csv-1700-1830.csv\", dtype=dtype)\n",
    "vast2 = pd.read_csv(f\"{gh_url}/csv-1831-2000.csv\", dtype=dtype)\n",
    "vast3 = pd.read_csv(f\"{gh_url}/csv-2001-2131.csv\", dtype=dtype)"
   ]
  },
  {
   "cell_type": "markdown",
   "metadata": {},
   "source": [
    "## Create workflow with custom verbs\n",
    "\n",
    "You can define custom verbs in two ways for the Workflow, \n",
    "\n",
    "1. Use the `verbs: dict[str, Callable]` parameter of the `Workflow` to provide the custom verbs\n",
    "2. Use the `@verb` decorator on your function to be discovered by the VerbManager. This requires importing the verb so that the decorator is used or using the load_verbs function to load all the verbs in a given package."
   ]
  },
  {
   "cell_type": "markdown",
   "metadata": {},
   "source": [
    "### Custom verbs with verbs parameter"
   ]
  },
  {
   "cell_type": "code",
   "execution_count": 3,
   "metadata": {},
   "outputs": [
    {
     "data": {
      "text/html": [
       "<div>\n",
       "<style scoped>\n",
       "    .dataframe tbody tr th:only-of-type {\n",
       "        vertical-align: middle;\n",
       "    }\n",
       "\n",
       "    .dataframe tbody tr th {\n",
       "        vertical-align: top;\n",
       "    }\n",
       "\n",
       "    .dataframe thead th {\n",
       "        text-align: right;\n",
       "    }\n",
       "</style>\n",
       "<table border=\"1\" class=\"dataframe\">\n",
       "  <thead>\n",
       "    <tr style=\"text-align: right;\">\n",
       "      <th></th>\n",
       "      <th>type</th>\n",
       "      <th>datetime</th>\n",
       "      <th>author</th>\n",
       "      <th>message</th>\n",
       "      <th>id</th>\n",
       "      <th>embedding</th>\n",
       "    </tr>\n",
       "  </thead>\n",
       "  <tbody>\n",
       "    <tr>\n",
       "      <th>0</th>\n",
       "      <td>mbdata</td>\n",
       "      <td>2014-01-23 17:00:00</td>\n",
       "      <td>POK</td>\n",
       "      <td>Follow us @POK-Kronos</td>\n",
       "      <td>hash(2014-01-23 17:00:00POKFollow us @POK-Kronos)</td>\n",
       "      <td>[0.1, 0.2, 0.3]</td>\n",
       "    </tr>\n",
       "    <tr>\n",
       "      <th>1</th>\n",
       "      <td>mbdata</td>\n",
       "      <td>2014-01-23 17:00:00</td>\n",
       "      <td>maha_Homeland</td>\n",
       "      <td>Don't miss a moment!  Follow our live coverage...</td>\n",
       "      <td>hash(2014-01-23 17:00:00maha_HomelandDon't mis...</td>\n",
       "      <td>[0.1, 0.2, 0.3]</td>\n",
       "    </tr>\n",
       "    <tr>\n",
       "      <th>2</th>\n",
       "      <td>mbdata</td>\n",
       "      <td>2014-01-23 17:00:00</td>\n",
       "      <td>Viktor-E</td>\n",
       "      <td>Come join us in the Park! Music tonight at Abi...</td>\n",
       "      <td>hash(2014-01-23 17:00:00Viktor-ECome join us i...</td>\n",
       "      <td>[0.1, 0.2, 0.3]</td>\n",
       "    </tr>\n",
       "    <tr>\n",
       "      <th>3</th>\n",
       "      <td>mbdata</td>\n",
       "      <td>2014-01-23 17:00:00</td>\n",
       "      <td>KronosStar</td>\n",
       "      <td>POK rally to start in Abila City Park. POK lea...</td>\n",
       "      <td>hash(2014-01-23 17:00:00KronosStarPOK rally to...</td>\n",
       "      <td>[0.1, 0.2, 0.3]</td>\n",
       "    </tr>\n",
       "    <tr>\n",
       "      <th>4</th>\n",
       "      <td>mbdata</td>\n",
       "      <td>2014-01-23 17:00:00</td>\n",
       "      <td>AbilaPost</td>\n",
       "      <td>POK rally set to take place in Abila City Park...</td>\n",
       "      <td>hash(2014-01-23 17:00:00AbilaPostPOK rally set...</td>\n",
       "      <td>[0.1, 0.2, 0.3]</td>\n",
       "    </tr>\n",
       "    <tr>\n",
       "      <th>...</th>\n",
       "      <td>...</td>\n",
       "      <td>...</td>\n",
       "      <td>...</td>\n",
       "      <td>...</td>\n",
       "      <td>...</td>\n",
       "      <td>...</td>\n",
       "    </tr>\n",
       "    <tr>\n",
       "      <th>4058</th>\n",
       "      <td>mbdata</td>\n",
       "      <td>2014-01-23 21:33:10</td>\n",
       "      <td>plasticParts</td>\n",
       "      <td>RT @AbilaPost unknown explosion heard from the...</td>\n",
       "      <td>hash(2014-01-23 21:33:10plasticPartsRT @AbilaP...</td>\n",
       "      <td>[0.1, 0.2, 0.3]</td>\n",
       "    </tr>\n",
       "    <tr>\n",
       "      <th>4059</th>\n",
       "      <td>mbdata</td>\n",
       "      <td>2014-01-23 21:33:45</td>\n",
       "      <td>klingon4real</td>\n",
       "      <td>RT @CentralBulletin explosion heard at dancing...</td>\n",
       "      <td>hash(2014-01-23 21:33:45klingon4realRT @Centra...</td>\n",
       "      <td>[0.1, 0.2, 0.3]</td>\n",
       "    </tr>\n",
       "    <tr>\n",
       "      <th>4060</th>\n",
       "      <td>mbdata</td>\n",
       "      <td>2014-01-23 21:34:00</td>\n",
       "      <td>lindyT</td>\n",
       "      <td>RT @KronosStar There has been an explosion fro...</td>\n",
       "      <td>hash(2014-01-23 21:34:00lindyTRT @KronosStar T...</td>\n",
       "      <td>[0.1, 0.2, 0.3]</td>\n",
       "    </tr>\n",
       "    <tr>\n",
       "      <th>4061</th>\n",
       "      <td>mbdata</td>\n",
       "      <td>2014-01-23 21:34:00</td>\n",
       "      <td>dolls4sale</td>\n",
       "      <td>RT @redisrad What was that? #boom</td>\n",
       "      <td>hash(2014-01-23 21:34:00dolls4saleRT @redisrad...</td>\n",
       "      <td>[0.1, 0.2, 0.3]</td>\n",
       "    </tr>\n",
       "    <tr>\n",
       "      <th>4062</th>\n",
       "      <td>mbdata</td>\n",
       "      <td>2014-01-23 21:34:45</td>\n",
       "      <td>worldWatcher</td>\n",
       "      <td>RT @CentralBulletin explosion heard at dancing...</td>\n",
       "      <td>hash(2014-01-23 21:34:45worldWatcherRT @Centra...</td>\n",
       "      <td>[0.1, 0.2, 0.3]</td>\n",
       "    </tr>\n",
       "  </tbody>\n",
       "</table>\n",
       "<p>4063 rows × 6 columns</p>\n",
       "</div>"
      ],
      "text/plain": [
       "        type            datetime         author  \\\n",
       "0     mbdata 2014-01-23 17:00:00            POK   \n",
       "1     mbdata 2014-01-23 17:00:00  maha_Homeland   \n",
       "2     mbdata 2014-01-23 17:00:00       Viktor-E   \n",
       "3     mbdata 2014-01-23 17:00:00     KronosStar   \n",
       "4     mbdata 2014-01-23 17:00:00      AbilaPost   \n",
       "...      ...                 ...            ...   \n",
       "4058  mbdata 2014-01-23 21:33:10   plasticParts   \n",
       "4059  mbdata 2014-01-23 21:33:45   klingon4real   \n",
       "4060  mbdata 2014-01-23 21:34:00         lindyT   \n",
       "4061  mbdata 2014-01-23 21:34:00     dolls4sale   \n",
       "4062  mbdata 2014-01-23 21:34:45   worldWatcher   \n",
       "\n",
       "                                                message  \\\n",
       "0                                 Follow us @POK-Kronos   \n",
       "1     Don't miss a moment!  Follow our live coverage...   \n",
       "2     Come join us in the Park! Music tonight at Abi...   \n",
       "3     POK rally to start in Abila City Park. POK lea...   \n",
       "4     POK rally set to take place in Abila City Park...   \n",
       "...                                                 ...   \n",
       "4058  RT @AbilaPost unknown explosion heard from the...   \n",
       "4059  RT @CentralBulletin explosion heard at dancing...   \n",
       "4060  RT @KronosStar There has been an explosion fro...   \n",
       "4061                  RT @redisrad What was that? #boom   \n",
       "4062  RT @CentralBulletin explosion heard at dancing...   \n",
       "\n",
       "                                                     id        embedding  \n",
       "0     hash(2014-01-23 17:00:00POKFollow us @POK-Kronos)  [0.1, 0.2, 0.3]  \n",
       "1     hash(2014-01-23 17:00:00maha_HomelandDon't mis...  [0.1, 0.2, 0.3]  \n",
       "2     hash(2014-01-23 17:00:00Viktor-ECome join us i...  [0.1, 0.2, 0.3]  \n",
       "3     hash(2014-01-23 17:00:00KronosStarPOK rally to...  [0.1, 0.2, 0.3]  \n",
       "4     hash(2014-01-23 17:00:00AbilaPostPOK rally set...  [0.1, 0.2, 0.3]  \n",
       "...                                                 ...              ...  \n",
       "4058  hash(2014-01-23 21:33:10plasticPartsRT @AbilaP...  [0.1, 0.2, 0.3]  \n",
       "4059  hash(2014-01-23 21:33:45klingon4realRT @Centra...  [0.1, 0.2, 0.3]  \n",
       "4060  hash(2014-01-23 21:34:00lindyTRT @KronosStar T...  [0.1, 0.2, 0.3]  \n",
       "4061  hash(2014-01-23 21:34:00dolls4saleRT @redisrad...  [0.1, 0.2, 0.3]  \n",
       "4062  hash(2014-01-23 21:34:45worldWatcherRT @Centra...  [0.1, 0.2, 0.3]  \n",
       "\n",
       "[4063 rows x 6 columns]"
      ]
     },
     "execution_count": 3,
     "metadata": {},
     "output_type": "execute_result"
    }
   ],
   "source": [
    "workflow = Workflow(\n",
    "    verbs={\"genid_verb\": genid, \"embed_verb\": embed},\n",
    "    schema={\n",
    "        \"steps\": [\n",
    "            {\n",
    "                \"verb\": \"concat\",\n",
    "                \"input\": {\"source\": \"vast1\", \"others\": [\"vast2\", \"vast3\"]},\n",
    "            },\n",
    "            {\n",
    "                \"verb\": \"convert\",\n",
    "                \"args\": {\n",
    "                    \"column\": \"date(yyyyMMddHHmmss)\",\n",
    "                    \"to\": \"datetime\",\n",
    "                    \"type\": \"date\",\n",
    "                    \"formatPattern\": \"yyyyMMddHHmmss\",\n",
    "                },\n",
    "            },\n",
    "            {\n",
    "                \"verb\": \"select\",\n",
    "                \"args\": {\"columns\": [\"type\", \"datetime\", \"author\", \"message\"]},\n",
    "            },\n",
    "            {\n",
    "                \"verb\": \"genid_verb\",\n",
    "                \"args\": {\"to\": \"id\", \"hash\": [\"datetime\", \"author\", \"message\"]},\n",
    "            },\n",
    "            {\"verb\": \"embed_verb\", \"args\": {\"to\": \"embedding\", \"column\": \"message\"}},\n",
    "        ]\n",
    "    },\n",
    "    input_tables={\"vast1\": vast1, \"vast2\": vast2, \"vast3\": vast3},\n",
    "    validate=False,\n",
    "    schema_path=\"../../schema/workflow.json\",\n",
    ")\n",
    "\n",
    "workflow.run()\n",
    "result = workflow.output()\n",
    "result"
   ]
  },
  {
   "cell_type": "markdown",
   "metadata": {},
   "source": [
    "### Custom verbs with verb decorator\n",
    "\n",
    "See [examples.verbs](../examples/verbs.py) for the implementation of the verbs with the `@verb` decorator"
   ]
  },
  {
   "cell_type": "code",
   "execution_count": 7,
   "metadata": {},
   "outputs": [
    {
     "name": "stderr",
     "output_type": "stream",
     "text": [
      "/home/andresmor/Projects/datashaper/python/examples/examples/verbs/custom_verbs.py:16: SettingWithCopyWarning: \n",
      "A value is trying to be set on a copy of a slice from a DataFrame.\n",
      "Try using .loc[row_indexer,col_indexer] = value instead\n",
      "\n",
      "See the caveats in the documentation: https://pandas.pydata.org/pandas-docs/stable/user_guide/indexing.html#returning-a-view-versus-a-copy\n",
      "  df[to] = df.apply(lambda row: hash_row(row), axis=1)\n",
      "/home/andresmor/Projects/datashaper/python/examples/examples/verbs/custom_verbs.py:24: SettingWithCopyWarning: \n",
      "A value is trying to be set on a copy of a slice from a DataFrame.\n",
      "Try using .loc[row_indexer,col_indexer] = value instead\n",
      "\n",
      "See the caveats in the documentation: https://pandas.pydata.org/pandas-docs/stable/user_guide/indexing.html#returning-a-view-versus-a-copy\n",
      "  df[to] = df.apply(lambda row: _embed(row[column]), axis=1)\n"
     ]
    },
    {
     "name": "stdout",
     "output_type": "stream",
     "text": [
      "diff between memory peaks start and end of workflow 2705.8974609375\n",
      "diff in kb between start and end of verb concat 230.193359375\n",
      "diff in kb between start and end of verb convert 71.6396484375\n",
      "diff in kb between start and end of verb select 129.521484375\n",
      "diff in kb between start and end of verb genid 682.080078125\n",
      "diff in kb between start and end of verb embed 378.7685546875\n"
     ]
    },
    {
     "name": "stderr",
     "output_type": "stream",
     "text": [
      "/home/andresmor/Projects/datashaper/python/examples/examples/verbs/custom_verbs.py:16: SettingWithCopyWarning: \n",
      "A value is trying to be set on a copy of a slice from a DataFrame.\n",
      "Try using .loc[row_indexer,col_indexer] = value instead\n",
      "\n",
      "See the caveats in the documentation: https://pandas.pydata.org/pandas-docs/stable/user_guide/indexing.html#returning-a-view-versus-a-copy\n",
      "  df[to] = df.apply(lambda row: hash_row(row), axis=1)\n",
      "/home/andresmor/Projects/datashaper/python/examples/examples/verbs/custom_verbs.py:24: SettingWithCopyWarning: \n",
      "A value is trying to be set on a copy of a slice from a DataFrame.\n",
      "Try using .loc[row_indexer,col_indexer] = value instead\n",
      "\n",
      "See the caveats in the documentation: https://pandas.pydata.org/pandas-docs/stable/user_guide/indexing.html#returning-a-view-versus-a-copy\n",
      "  df[to] = df.apply(lambda row: _embed(row[column]), axis=1)\n"
     ]
    },
    {
     "name": "stdout",
     "output_type": "stream",
     "text": [
      "diff between memory peaks start and end of workflow 2701.529296875\n",
      "diff in kb between start and end of verb concat 227.130859375\n",
      "diff in kb between start and end of verb convert 71.4755859375\n",
      "diff in kb between start and end of verb select 129.37109375\n",
      "diff in kb between start and end of verb genid 681.994140625\n",
      "diff in kb between start and end of verb embed 378.6865234375\n"
     ]
    },
    {
     "name": "stderr",
     "output_type": "stream",
     "text": [
      "/home/andresmor/Projects/datashaper/python/examples/examples/verbs/custom_verbs.py:16: SettingWithCopyWarning: \n",
      "A value is trying to be set on a copy of a slice from a DataFrame.\n",
      "Try using .loc[row_indexer,col_indexer] = value instead\n",
      "\n",
      "See the caveats in the documentation: https://pandas.pydata.org/pandas-docs/stable/user_guide/indexing.html#returning-a-view-versus-a-copy\n",
      "  df[to] = df.apply(lambda row: hash_row(row), axis=1)\n",
      "/home/andresmor/Projects/datashaper/python/examples/examples/verbs/custom_verbs.py:24: SettingWithCopyWarning: \n",
      "A value is trying to be set on a copy of a slice from a DataFrame.\n",
      "Try using .loc[row_indexer,col_indexer] = value instead\n",
      "\n",
      "See the caveats in the documentation: https://pandas.pydata.org/pandas-docs/stable/user_guide/indexing.html#returning-a-view-versus-a-copy\n",
      "  df[to] = df.apply(lambda row: _embed(row[column]), axis=1)\n"
     ]
    },
    {
     "name": "stdout",
     "output_type": "stream",
     "text": [
      "diff between memory peaks start and end of workflow 2699.4482421875\n",
      "diff in kb between start and end of verb concat 227.130859375\n",
      "diff in kb between start and end of verb convert 70.1064453125\n",
      "diff in kb between start and end of verb select 129.1513671875\n",
      "diff in kb between start and end of verb genid 681.4501953125\n",
      "diff in kb between start and end of verb embed 378.73828125\n"
     ]
    },
    {
     "name": "stderr",
     "output_type": "stream",
     "text": [
      "/home/andresmor/Projects/datashaper/python/examples/examples/verbs/custom_verbs.py:16: SettingWithCopyWarning: \n",
      "A value is trying to be set on a copy of a slice from a DataFrame.\n",
      "Try using .loc[row_indexer,col_indexer] = value instead\n",
      "\n",
      "See the caveats in the documentation: https://pandas.pydata.org/pandas-docs/stable/user_guide/indexing.html#returning-a-view-versus-a-copy\n",
      "  df[to] = df.apply(lambda row: hash_row(row), axis=1)\n",
      "/home/andresmor/Projects/datashaper/python/examples/examples/verbs/custom_verbs.py:24: SettingWithCopyWarning: \n",
      "A value is trying to be set on a copy of a slice from a DataFrame.\n",
      "Try using .loc[row_indexer,col_indexer] = value instead\n",
      "\n",
      "See the caveats in the documentation: https://pandas.pydata.org/pandas-docs/stable/user_guide/indexing.html#returning-a-view-versus-a-copy\n",
      "  df[to] = df.apply(lambda row: _embed(row[column]), axis=1)\n"
     ]
    },
    {
     "name": "stdout",
     "output_type": "stream",
     "text": [
      "diff between memory peaks start and end of workflow 2707.2451171875\n",
      "diff in kb between start and end of verb concat 228.193359375\n",
      "diff in kb between start and end of verb convert 77.4677734375\n",
      "diff in kb between start and end of verb select 129.1298828125\n",
      "diff in kb between start and end of verb genid 680.8447265625\n",
      "diff in kb between start and end of verb embed 378.7216796875\n"
     ]
    },
    {
     "name": "stderr",
     "output_type": "stream",
     "text": [
      "/home/andresmor/Projects/datashaper/python/examples/examples/verbs/custom_verbs.py:16: SettingWithCopyWarning: \n",
      "A value is trying to be set on a copy of a slice from a DataFrame.\n",
      "Try using .loc[row_indexer,col_indexer] = value instead\n",
      "\n",
      "See the caveats in the documentation: https://pandas.pydata.org/pandas-docs/stable/user_guide/indexing.html#returning-a-view-versus-a-copy\n",
      "  df[to] = df.apply(lambda row: hash_row(row), axis=1)\n",
      "/home/andresmor/Projects/datashaper/python/examples/examples/verbs/custom_verbs.py:24: SettingWithCopyWarning: \n",
      "A value is trying to be set on a copy of a slice from a DataFrame.\n",
      "Try using .loc[row_indexer,col_indexer] = value instead\n",
      "\n",
      "See the caveats in the documentation: https://pandas.pydata.org/pandas-docs/stable/user_guide/indexing.html#returning-a-view-versus-a-copy\n",
      "  df[to] = df.apply(lambda row: _embed(row[column]), axis=1)\n"
     ]
    },
    {
     "name": "stdout",
     "output_type": "stream",
     "text": [
      "diff between memory peaks start and end of workflow 2700.451171875\n",
      "diff in kb between start and end of verb concat 227.130859375\n",
      "diff in kb between start and end of verb convert 70.109375\n",
      "diff in kb between start and end of verb select 129.431640625\n",
      "diff in kb between start and end of verb genid 682.2265625\n",
      "diff in kb between start and end of verb embed 378.681640625\n"
     ]
    },
    {
     "name": "stderr",
     "output_type": "stream",
     "text": [
      "/home/andresmor/Projects/datashaper/python/examples/examples/verbs/custom_verbs.py:16: SettingWithCopyWarning: \n",
      "A value is trying to be set on a copy of a slice from a DataFrame.\n",
      "Try using .loc[row_indexer,col_indexer] = value instead\n",
      "\n",
      "See the caveats in the documentation: https://pandas.pydata.org/pandas-docs/stable/user_guide/indexing.html#returning-a-view-versus-a-copy\n",
      "  df[to] = df.apply(lambda row: hash_row(row), axis=1)\n",
      "/home/andresmor/Projects/datashaper/python/examples/examples/verbs/custom_verbs.py:24: SettingWithCopyWarning: \n",
      "A value is trying to be set on a copy of a slice from a DataFrame.\n",
      "Try using .loc[row_indexer,col_indexer] = value instead\n",
      "\n",
      "See the caveats in the documentation: https://pandas.pydata.org/pandas-docs/stable/user_guide/indexing.html#returning-a-view-versus-a-copy\n",
      "  df[to] = df.apply(lambda row: _embed(row[column]), axis=1)\n"
     ]
    },
    {
     "name": "stdout",
     "output_type": "stream",
     "text": [
      "diff between memory peaks start and end of workflow 2697.8837890625\n",
      "diff in kb between start and end of verb concat 227.130859375\n",
      "diff in kb between start and end of verb convert 68.8134765625\n",
      "diff in kb between start and end of verb select 129.431640625\n",
      "diff in kb between start and end of verb genid 680.841796875\n",
      "diff in kb between start and end of verb embed 378.724609375\n"
     ]
    },
    {
     "name": "stderr",
     "output_type": "stream",
     "text": [
      "/home/andresmor/Projects/datashaper/python/examples/examples/verbs/custom_verbs.py:16: SettingWithCopyWarning: \n",
      "A value is trying to be set on a copy of a slice from a DataFrame.\n",
      "Try using .loc[row_indexer,col_indexer] = value instead\n",
      "\n",
      "See the caveats in the documentation: https://pandas.pydata.org/pandas-docs/stable/user_guide/indexing.html#returning-a-view-versus-a-copy\n",
      "  df[to] = df.apply(lambda row: hash_row(row), axis=1)\n",
      "/home/andresmor/Projects/datashaper/python/examples/examples/verbs/custom_verbs.py:24: SettingWithCopyWarning: \n",
      "A value is trying to be set on a copy of a slice from a DataFrame.\n",
      "Try using .loc[row_indexer,col_indexer] = value instead\n",
      "\n",
      "See the caveats in the documentation: https://pandas.pydata.org/pandas-docs/stable/user_guide/indexing.html#returning-a-view-versus-a-copy\n",
      "  df[to] = df.apply(lambda row: _embed(row[column]), axis=1)\n"
     ]
    },
    {
     "name": "stdout",
     "output_type": "stream",
     "text": [
      "diff between memory peaks start and end of workflow 2707.470703125\n",
      "diff in kb between start and end of verb concat 228.193359375\n",
      "diff in kb between start and end of verb convert 77.6416015625\n",
      "diff in kb between start and end of verb select 129.236328125\n",
      "diff in kb between start and end of verb genid 680.78515625\n",
      "diff in kb between start and end of verb embed 378.669921875\n"
     ]
    },
    {
     "name": "stderr",
     "output_type": "stream",
     "text": [
      "/home/andresmor/Projects/datashaper/python/examples/examples/verbs/custom_verbs.py:16: SettingWithCopyWarning: \n",
      "A value is trying to be set on a copy of a slice from a DataFrame.\n",
      "Try using .loc[row_indexer,col_indexer] = value instead\n",
      "\n",
      "See the caveats in the documentation: https://pandas.pydata.org/pandas-docs/stable/user_guide/indexing.html#returning-a-view-versus-a-copy\n",
      "  df[to] = df.apply(lambda row: hash_row(row), axis=1)\n",
      "/home/andresmor/Projects/datashaper/python/examples/examples/verbs/custom_verbs.py:24: SettingWithCopyWarning: \n",
      "A value is trying to be set on a copy of a slice from a DataFrame.\n",
      "Try using .loc[row_indexer,col_indexer] = value instead\n",
      "\n",
      "See the caveats in the documentation: https://pandas.pydata.org/pandas-docs/stable/user_guide/indexing.html#returning-a-view-versus-a-copy\n",
      "  df[to] = df.apply(lambda row: _embed(row[column]), axis=1)\n"
     ]
    },
    {
     "name": "stdout",
     "output_type": "stream",
     "text": [
      "diff between memory peaks start and end of workflow 2701.6337890625\n",
      "diff in kb between start and end of verb concat 227.130859375\n",
      "diff in kb between start and end of verb convert 72.1220703125\n",
      "diff in kb between start and end of verb select 129.431640625\n",
      "diff in kb between start and end of verb genid 681.3369140625\n",
      "diff in kb between start and end of verb embed 378.818359375\n"
     ]
    },
    {
     "name": "stderr",
     "output_type": "stream",
     "text": [
      "/home/andresmor/Projects/datashaper/python/examples/examples/verbs/custom_verbs.py:16: SettingWithCopyWarning: \n",
      "A value is trying to be set on a copy of a slice from a DataFrame.\n",
      "Try using .loc[row_indexer,col_indexer] = value instead\n",
      "\n",
      "See the caveats in the documentation: https://pandas.pydata.org/pandas-docs/stable/user_guide/indexing.html#returning-a-view-versus-a-copy\n",
      "  df[to] = df.apply(lambda row: hash_row(row), axis=1)\n",
      "/home/andresmor/Projects/datashaper/python/examples/examples/verbs/custom_verbs.py:24: SettingWithCopyWarning: \n",
      "A value is trying to be set on a copy of a slice from a DataFrame.\n",
      "Try using .loc[row_indexer,col_indexer] = value instead\n",
      "\n",
      "See the caveats in the documentation: https://pandas.pydata.org/pandas-docs/stable/user_guide/indexing.html#returning-a-view-versus-a-copy\n",
      "  df[to] = df.apply(lambda row: _embed(row[column]), axis=1)\n"
     ]
    },
    {
     "name": "stdout",
     "output_type": "stream",
     "text": [
      "diff between memory peaks start and end of workflow 2697.818359375\n",
      "diff in kb between start and end of verb concat 227.130859375\n",
      "diff in kb between start and end of verb convert 69.109375\n",
      "diff in kb between start and end of verb select 129.318359375\n",
      "diff in kb between start and end of verb genid 680.955078125\n",
      "diff in kb between start and end of verb embed 380.5224609375\n",
      "diff between memory peaks start and end of workflow 2706.9404296875\n",
      "diff in kb between start and end of verb concat 228.044921875\n",
      "diff in kb between start and end of verb convert 77.208984375\n",
      "diff in kb between start and end of verb select 129.521484375\n",
      "diff in kb between start and end of verb genid 680.6142578125\n",
      "diff in kb between start and end of verb embed 378.6630859375\n"
     ]
    },
    {
     "name": "stderr",
     "output_type": "stream",
     "text": [
      "/home/andresmor/Projects/datashaper/python/examples/examples/verbs/custom_verbs.py:16: SettingWithCopyWarning: \n",
      "A value is trying to be set on a copy of a slice from a DataFrame.\n",
      "Try using .loc[row_indexer,col_indexer] = value instead\n",
      "\n",
      "See the caveats in the documentation: https://pandas.pydata.org/pandas-docs/stable/user_guide/indexing.html#returning-a-view-versus-a-copy\n",
      "  df[to] = df.apply(lambda row: hash_row(row), axis=1)\n",
      "/home/andresmor/Projects/datashaper/python/examples/examples/verbs/custom_verbs.py:24: SettingWithCopyWarning: \n",
      "A value is trying to be set on a copy of a slice from a DataFrame.\n",
      "Try using .loc[row_indexer,col_indexer] = value instead\n",
      "\n",
      "See the caveats in the documentation: https://pandas.pydata.org/pandas-docs/stable/user_guide/indexing.html#returning-a-view-versus-a-copy\n",
      "  df[to] = df.apply(lambda row: _embed(row[column]), axis=1)\n"
     ]
    }
   ],
   "source": [
    "import os\n",
    "from datashaper.engine.verbs import load_verbs\n",
    "from datashaper.execution import ExecutionNode\n",
    "from collections import defaultdict\n",
    "import examples.verbs as custom_verbs_module\n",
    "\n",
    "load_verbs(custom_verbs_module)\n",
    "\n",
    "import tracemalloc\n",
    "def bytes_to_kb(bytes):\n",
    "    return bytes / 1024\n",
    "\n",
    "class MemoryProfileCallbacks:\n",
    "\n",
    "    def __init__(self):\n",
    "        self.snapshots = defaultdict(list)\n",
    "        self.first_size, self.first_peak, self.second_size, self.second_peak = 0, 0, 0, 0\n",
    "\n",
    "    def _take_snapshot(self, node):\n",
    "        self.snapshots[node.verb.name].append(tracemalloc.take_snapshot())\n",
    "\n",
    "    def on_workflow_start(self) -> None:\n",
    "        \"\"\"Called when the workflow starts.\"\"\"\n",
    "        tracemalloc.start()\n",
    "        self.first_size, self.first_peak = tracemalloc.get_traced_memory()\n",
    "    \n",
    "    def on_step_start(self, node: ExecutionNode) -> None:\n",
    "        \"\"\"Called when a step starts.\"\"\"\n",
    "        self._take_snapshot(node)\n",
    "\n",
    "    def on_step_end(self, node: ExecutionNode) -> None:\n",
    "        \"\"\"Called when a step ends.\"\"\"\n",
    "        self._take_snapshot(node)\n",
    "\n",
    "    def on_workflow_end(self) -> None:\n",
    "        \"\"\"Called when the workflow ends.\"\"\"\n",
    "        self.second_size, self.second_peak = tracemalloc.get_traced_memory()\n",
    "        tracemalloc.stop()\n",
    "\n",
    "    \n",
    "\n",
    "    def print_stats(self):\n",
    "        total_memory_used = self.second_peak - self.first_peak\n",
    "        print(\"diff between memory peaks start and end of workflow\", bytes_to_kb(total_memory_used))\n",
    "\n",
    "        for verb, _snapshots in self.snapshots.items():\n",
    "            top_stats = _snapshots[1].compare_to(_snapshots[0], \"lineno\")\n",
    "            diff = sum(bytes_to_kb(stat.size_diff) for stat in top_stats)\n",
    "            print(f\"diff in kb between start and end of verb {verb}\", diff)\n",
    "\n",
    "for _ in range(10):\n",
    "    workflow = Workflow(\n",
    "        # verbs={\"genid\": genid, \"embed\": embed},  This is not needed since the @verb decorator is used and the verbs are loaded into the VerbManager\n",
    "        schema={\n",
    "            \"steps\": [\n",
    "                {\n",
    "                    \"verb\": \"concat\",\n",
    "                    \"input\": {\"source\": \"vast1\", \"others\": [\"vast2\", \"vast3\"]},\n",
    "                },\n",
    "                {\n",
    "                    \"verb\": \"convert\",\n",
    "                    \"args\": {\n",
    "                        \"column\": \"date(yyyyMMddHHmmss)\",\n",
    "                        \"to\": \"datetime\",\n",
    "                        \"type\": \"date\",\n",
    "                        \"formatPattern\": \"yyyyMMddHHmmss\",\n",
    "                    },\n",
    "                },\n",
    "                {\n",
    "                    \"verb\": \"select\",\n",
    "                    \"args\": {\"columns\": [\"type\", \"datetime\", \"author\", \"message\"]},\n",
    "                },\n",
    "                {\n",
    "                    \"verb\": \"genid\",\n",
    "                    \"args\": {\"to\": \"id\", \"hash\": [\"datetime\", \"author\", \"message\"]},\n",
    "                },\n",
    "                {\"verb\": \"embed\", \"args\": {\"to\": \"embedding\", \"column\": \"message\"}},\n",
    "            ]\n",
    "        },\n",
    "        input_tables={\"vast1\": vast1, \"vast2\": vast2, \"vast3\": vast3},\n",
    "        validate=False,\n",
    "        schema_path=\"../../schema/workflow.json\",\n",
    "    )\n",
    "    profile_callbacks = MemoryProfileCallbacks()\n",
    "    workflow.run(workflow_callbacks=profile_callbacks)\n",
    "    profile_callbacks.print_stats()"
   ]
  },
  {
   "cell_type": "code",
   "execution_count": 6,
   "metadata": {},
   "outputs": [
    {
     "name": "stdout",
     "output_type": "stream",
     "text": [
      "diff between memory peaks start and end of workflow 2707.0087890625\n",
      "diff in kb between start and end of verb concat 230.193359375\n",
      "diff in kb between start and end of verb convert 72.3310546875\n",
      "diff in kb between start and end of verb select 129.521484375\n",
      "diff in kb between start and end of verb genid 682.443359375\n",
      "diff in kb between start and end of verb embed 378.7685546875\n"
     ]
    }
   ],
   "source": [
    "profile_callbacks.print_stats()"
   ]
  },
  {
   "cell_type": "code",
   "execution_count": 13,
   "metadata": {},
   "outputs": [
    {
     "data": {
      "text/plain": [
       "295.56640625"
      ]
     },
     "execution_count": 13,
     "metadata": {},
     "output_type": "execute_result"
    }
   ],
   "source": []
  },
  {
   "cell_type": "code",
   "execution_count": 5,
   "metadata": {},
   "outputs": [],
   "source": []
  },
  {
   "cell_type": "code",
   "execution_count": null,
   "metadata": {},
   "outputs": [],
   "source": []
  }
 ],
 "metadata": {
  "kernelspec": {
   "display_name": "examples-gtU7jnqy-py3.10",
   "language": "python",
   "name": "python3"
  },
  "language_info": {
   "codemirror_mode": {
    "name": "ipython",
    "version": 3
   },
   "file_extension": ".py",
   "mimetype": "text/x-python",
   "name": "python",
   "nbconvert_exporter": "python",
   "pygments_lexer": "ipython3",
   "version": "3.10.11"
  }
 },
 "nbformat": 4,
 "nbformat_minor": 2
}
